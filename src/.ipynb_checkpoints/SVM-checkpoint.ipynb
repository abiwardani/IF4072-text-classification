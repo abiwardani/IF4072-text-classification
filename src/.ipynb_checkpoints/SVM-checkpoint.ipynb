{
 "cells": [
  {
   "cell_type": "code",
   "execution_count": 1,
   "metadata": {},
   "outputs": [],
   "source": [
    "import numpy as np\n",
    "\n",
    "import pandas as pd\n",
    "\n"
   ]
  },
  {
   "cell_type": "code",
   "execution_count": 5,
   "metadata": {},
   "outputs": [
    {
     "data": {
      "text/html": [
       "<div>\n",
       "<style scoped>\n",
       "    .dataframe tbody tr th:only-of-type {\n",
       "        vertical-align: middle;\n",
       "    }\n",
       "\n",
       "    .dataframe tbody tr th {\n",
       "        vertical-align: top;\n",
       "    }\n",
       "\n",
       "    .dataframe thead th {\n",
       "        text-align: right;\n",
       "    }\n",
       "</style>\n",
       "<table border=\"1\" class=\"dataframe\">\n",
       "  <thead>\n",
       "    <tr style=\"text-align: right;\">\n",
       "      <th></th>\n",
       "      <th>Unnamed: 0</th>\n",
       "      <th>text_a</th>\n",
       "      <th>label</th>\n",
       "    </tr>\n",
       "  </thead>\n",
       "  <tbody>\n",
       "    <tr>\n",
       "      <th>0</th>\n",
       "      <td>0</td>\n",
       "      <td>betewe buka twitter cuman ngetweet liat home b...</td>\n",
       "      <td>no</td>\n",
       "    </tr>\n",
       "    <tr>\n",
       "      <th>1</th>\n",
       "      <td>1</td>\n",
       "      <td>mas piyuuu mugo2 corona tuh mulut tersumpal ma...</td>\n",
       "      <td>no</td>\n",
       "    </tr>\n",
       "    <tr>\n",
       "      <th>2</th>\n",
       "      <td>2</td>\n",
       "      <td>e100ss gini buka informasi sejelas nya identit...</td>\n",
       "      <td>yes</td>\n",
       "    </tr>\n",
       "    <tr>\n",
       "      <th>3</th>\n",
       "      <td>3</td>\n",
       "      <td>neng solo wes ono terduga corona cobo neng ati...</td>\n",
       "      <td>no</td>\n",
       "    </tr>\n",
       "    <tr>\n",
       "      <th>4</th>\n",
       "      <td>4</td>\n",
       "      <td>midiahn nii akun gak takut takut nya isu coron...</td>\n",
       "      <td>no</td>\n",
       "    </tr>\n",
       "  </tbody>\n",
       "</table>\n",
       "</div>"
      ],
      "text/plain": [
       "   Unnamed: 0                                             text_a label\n",
       "0           0  betewe buka twitter cuman ngetweet liat home b...    no\n",
       "1           1  mas piyuuu mugo2 corona tuh mulut tersumpal ma...    no\n",
       "2           2  e100ss gini buka informasi sejelas nya identit...   yes\n",
       "3           3  neng solo wes ono terduga corona cobo neng ati...    no\n",
       "4           4  midiahn nii akun gak takut takut nya isu coron...    no"
      ]
     },
     "execution_count": 5,
     "metadata": {},
     "output_type": "execute_result"
    }
   ],
   "source": [
    "df = pd.read_csv('../dataset/train.csv')\n",
    "df.head()"
   ]
  },
  {
   "cell_type": "code",
   "execution_count": 6,
   "metadata": {},
   "outputs": [
    {
     "data": {
      "text/plain": [
       "21601"
      ]
     },
     "execution_count": 6,
     "metadata": {},
     "output_type": "execute_result"
    }
   ],
   "source": [
    "len(df)"
   ]
  },
  {
   "cell_type": "code",
   "execution_count": 7,
   "metadata": {},
   "outputs": [
    {
     "data": {
      "text/plain": [
       "Unnamed: 0    0\n",
       "text_a        0\n",
       "label         0\n",
       "dtype: int64"
      ]
     },
     "execution_count": 7,
     "metadata": {},
     "output_type": "execute_result"
    }
   ],
   "source": [
    "df.isnull().sum()"
   ]
  },
  {
   "cell_type": "code",
   "execution_count": 9,
   "metadata": {},
   "outputs": [
    {
     "data": {
      "text/plain": [
       "array(['betewe buka twitter cuman ngetweet liat home berita corona panik kepikiran ndamau buka2 home yg aware aja i ll stay at home nda rumah kalo nda penting2 banget',\n",
       "       'mas piyuuu mugo2 corona tuh mulut tersumpal ma corona',\n",
       "       'e100ss gini buka informasi sejelas nya identitas daerah penderita terjangkit infokan masyarakat mengisolasi nya kontak langsung penderita positif corona ditutup tutupi',\n",
       "       ...,\n",
       "       'null komentar iwan fals virus corona indonesia presiden joko widodo menyampai https t co o6za7tnjak',\n",
       "       'giapratamamd kalo ga berinteraksi orang positif corona terjangkit nya bener ga si',\n",
       "       'a a a a girls jujur ya sayang banget stay safe ya lupa olahraga makan yg sehat jaga minum air nya pake masker nya salahsatu mutual ku yg kena corona ga ikhlas y jaga a a'],\n",
       "      dtype=object)"
      ]
     },
     "execution_count": 9,
     "metadata": {},
     "output_type": "execute_result"
    }
   ],
   "source": [
    "df[\"text_a\"].unique()"
   ]
  },
  {
   "cell_type": "code",
   "execution_count": 10,
   "metadata": {},
   "outputs": [
    {
     "data": {
      "text/plain": [
       "hoax berjemur lawan corona                                                                                                                                                                                           5\n",
       "gunung krakatau meletus                                                                                                                                                                                              4\n",
       "kpk bebaskan napi koruptor                                                                                                                                                                                           4\n",
       "hoaks insentif pemerintah gratiskan                                                                                                                                                                                  4\n",
       "hoaks glenn fredly meninggal                                                                                                                                                                                         4\n",
       "                                                                                                                                                                                                                    ..\n",
       "waftuns sy jg bingung buzzerp2 yg giat bner nyerang aniesbaswedan physical distancing jokowi kebobolannya krn gmn publik figur jd ya otomatis bnyk yg ngelilingin beliau spt halnya gub dki                          1\n",
       "psbb tdk bs memasuki wilayah jakarta kepemilikan surat izin masuk olh krnnya lbh tdk ush jakarta tdk keperluan mendesak mari disiplin amp jalankan peran masing2 utk cegah sebaran covid 19 https t co fvwmjgt6om    1\n",
       "juni udah konsep new normal ku ga normal mengantisipasi gelombang tetep psbb sampe november semoga gaada gelombang 2 gelombang 2 ya gabakal main https t co yecsfja7gh                                               1\n",
       "henrysubiakto klo yg bohong presiden pejabat m nuh                                                                                                                                                                   1\n",
       "terjawab psbbjakartagagaltotal udah rempong duluan psbb plg duluan udh plg anggarannya plg yg dimiliki tp skrg msh ttp juara bertahan penyumbang pasien hadeh https t co qultvlv2m3                                  1\n",
       "Name: text_a, Length: 16221, dtype: int64"
      ]
     },
     "execution_count": 10,
     "metadata": {},
     "output_type": "execute_result"
    }
   ],
   "source": [
    "df[\"text_a\"].value_counts()"
   ]
  },
  {
   "cell_type": "code",
   "execution_count": 11,
   "metadata": {},
   "outputs": [
    {
     "data": {
      "text/plain": [
       "0         no\n",
       "1         no\n",
       "2        yes\n",
       "3         no\n",
       "4         no\n",
       "        ... \n",
       "21596     no\n",
       "21597     no\n",
       "21598     no\n",
       "21599     no\n",
       "21600     no\n",
       "Name: label, Length: 21601, dtype: object"
      ]
     },
     "execution_count": 11,
     "metadata": {},
     "output_type": "execute_result"
    }
   ],
   "source": [
    "df[\"label\"]"
   ]
  }
 ],
 "metadata": {
  "kernelspec": {
   "display_name": "Python 3 (ipykernel)",
   "language": "python",
   "name": "python3"
  },
  "language_info": {
   "codemirror_mode": {
    "name": "ipython",
    "version": 3
   },
   "file_extension": ".py",
   "mimetype": "text/x-python",
   "name": "python",
   "nbconvert_exporter": "python",
   "pygments_lexer": "ipython3",
   "version": "3.9.13"
  },
  "vscode": {
   "interpreter": {
    "hash": "200e2a1a991d180c9c309c789f657d054eb1e69794afbc0e2ae3f183f1fccf4c"
   }
  }
 },
 "nbformat": 4,
 "nbformat_minor": 2
}
