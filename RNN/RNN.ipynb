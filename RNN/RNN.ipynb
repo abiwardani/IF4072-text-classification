{
  "nbformat": 4,
  "nbformat_minor": 0,
  "metadata": {
    "colab": {
      "provenance": [],
      "collapsed_sections": []
    },
    "kernelspec": {
      "name": "python3",
      "display_name": "Python 3"
    },
    "language_info": {
      "name": "python"
    }
  },
  "cells": [
    {
      "cell_type": "code",
      "execution_count": 1,
      "metadata": {
        "colab": {
          "base_uri": "https://localhost:8080/"
        },
        "id": "mepLRHZEkycv",
        "outputId": "dd430105-1a6f-4b4a-ba72-09823b518b4c"
      },
      "outputs": [
        {
          "output_type": "stream",
          "name": "stdout",
          "text": [
            "Requirement already satisfied: gensim in /usr/local/lib/python3.7/dist-packages (3.6.0)\n",
            "Requirement already satisfied: numpy>=1.11.3 in /usr/local/lib/python3.7/dist-packages (from gensim) (1.18.5)\n",
            "Requirement already satisfied: six>=1.5.0 in /usr/local/lib/python3.7/dist-packages (from gensim) (1.15.0)\n",
            "Requirement already satisfied: smart-open>=1.2.1 in /usr/local/lib/python3.7/dist-packages (from gensim) (5.2.1)\n",
            "Requirement already satisfied: scipy>=0.18.1 in /usr/local/lib/python3.7/dist-packages (from gensim) (1.7.3)\n"
          ]
        }
      ],
      "source": [
        "!pip install --user gensim"
      ]
    },
    {
      "cell_type": "code",
      "source": [
        "!pip install -U numpy==1.18.5"
      ],
      "metadata": {
        "colab": {
          "base_uri": "https://localhost:8080/"
        },
        "id": "4RxnQmEFicqF",
        "outputId": "d1b345fe-d09c-4da1-a474-a7a1220c6c14"
      },
      "execution_count": 2,
      "outputs": [
        {
          "output_type": "stream",
          "name": "stdout",
          "text": [
            "Requirement already satisfied: numpy==1.18.5 in /usr/local/lib/python3.7/dist-packages (1.18.5)\n"
          ]
        }
      ]
    },
    {
      "cell_type": "code",
      "source": [
        "import numpy as np # linear algebra\n",
        "import pandas as pd # data processing, CSV file I/O (e.g. pd.read_csv)\n",
        "\n",
        "# Input data files are available in the \"../input/\" directory.\n",
        "# For example, running this (by clicking run or pressing Shift+Enter) will list the files in the input directory\n",
        "\n",
        "import os\n",
        "\n",
        "import warnings  \n",
        "warnings.filterwarnings('ignore')\n",
        "\n",
        "# importing packages\n",
        "import pandas as pd\n",
        "import re\n",
        "import numpy as np\n",
        "\n",
        "# nltk packages\n",
        "import nltk\n",
        "from nltk import word_tokenize\n",
        "from nltk.stem import WordNetLemmatizer \n",
        "from nltk.corpus import stopwords\n",
        "from string import punctuation\n",
        "\n",
        "# gensim\n",
        "from gensim.models import FastText\n",
        "\n",
        "# keras\n",
        "import numpy as np\n",
        "import tensorflow as tf"
      ],
      "metadata": {
        "id": "KDng5_4Fzh4p"
      },
      "execution_count": 3,
      "outputs": []
    },
    {
      "cell_type": "code",
      "source": [
        "train_df = pd.read_csv(\"../dataset/train.csv\")\n",
        "dev_df = pd.read_csv(\"../dataset/dev.csv\")\n",
        "test_df = pd.read_csv(\"../dataset/test.csv\")\n",
        "\n",
        "train_seqs = [_ for _ in train_df[\"text_a\"]]\n",
        "train_labels = np.array([1 if (label == \"yes\") else 0 for label in train_df[\"label\"]])\n",
        "\n",
        "dev_seqs = [_ for _ in dev_df[\"text_a\"]]\n",
        "dev_labels = np.array([1 if (label == \"yes\") else 0 for label in dev_df[\"label\"]])\n",
        "\n",
        "test_seqs = [_ for _ in test_df[\"text_a\"]]\n",
        "test_labels = np.array([1 if (label == \"yes\") else 0 for label in test_df[\"label\"]])\n",
        "\n",
        "for i, seq in enumerate(train_seqs):\n",
        "  train_seqs[i] = seq.split(\" \")\n",
        "\n",
        "for i, seq in enumerate(dev_seqs):\n",
        "  dev_seqs[i] = seq.split(\" \")\n",
        "\n",
        "for i, seq in enumerate(test_seqs):\n",
        "  test_seqs[i] = seq.split(\" \")"
      ],
      "metadata": {
        "id": "42W43xU4keJf"
      },
      "execution_count": 4,
      "outputs": []
    },
    {
      "cell_type": "code",
      "source": [
        "# prepare data\n",
        "\n",
        "vocab = []\n",
        "  \n",
        "for seq in train_seqs:\n",
        "  for token in seq:\n",
        "    if token not in vocab:\n",
        "      vocab.append(token)\n",
        "\n",
        "for seq in dev_seqs:\n",
        "  for token in seq:\n",
        "    if token not in vocab:\n",
        "      vocab.append(token)\n",
        "\n",
        "for seq in test_seqs:\n",
        "  for token in seq:\n",
        "    if token not in vocab:\n",
        "      vocab.append(token)\n",
        "\n",
        "def vocab_generator(vocab):\n",
        "  yield vocab"
      ],
      "metadata": {
        "id": "kidJk55rk75q"
      },
      "execution_count": 6,
      "outputs": []
    },
    {
      "cell_type": "code",
      "source": [
        "# train model on train set\n",
        "vec_model = FastText(size = 100, min_count = 1, window = 5)\n",
        "vec_model.build_vocab(vocab_generator(vocab))\n",
        "vec_model.train(vocab_generator(vocab), total_examples=vec_model.corpus_count, epochs=vec_model.iter)\n",
        "# vocab_space = model[train_vocab]\n",
        "\n",
        "train_data = [vec_model[seq] for seq in train_seqs]\n",
        "dev_data = [vec_model[seq] for seq in dev_seqs]\n",
        "test_data = [vec_model[seq] for seq in test_seqs]"
      ],
      "metadata": {
        "id": "DDMrTeiVBpdP"
      },
      "execution_count": 7,
      "outputs": []
    },
    {
      "cell_type": "code",
      "source": [
        "def padData(seqs, target_size, vector_dim):\n",
        "  new_list = np.zeros((len(seqs), target_size, vector_dim))\n",
        "  \n",
        "  for i, seq in enumerate(seqs):\n",
        "    for j in range(min(target_size, len(seq))):\n",
        "      new_list[i][j] = seq[j]\n",
        "\n",
        "  return new_list\n",
        "\n",
        "train_data_padded = padData(train_data, 124, 100)\n",
        "dev_data_padded = padData(dev_data, 124, 100)\n",
        "test_data_padded = padData(test_data, 124, 100)\n",
        "\n",
        "train_data_padded = train_data_padded.reshape(len(train_labels), 124, 100)\n",
        "dev_data_padded = dev_data_padded.reshape(len(dev_labels), 124, 100)\n",
        "test_data_padded = test_data_padded.reshape(len(test_labels), 124, 100)"
      ],
      "metadata": {
        "id": "xXTo9kEBFwNz"
      },
      "execution_count": 23,
      "outputs": []
    },
    {
      "cell_type": "code",
      "source": [
        "# rnn with vectors as inputs\n",
        "dl_model = tf.keras.Sequential()\n",
        "# dl_model.add(layers.Embedding(input_dim=100, output_dim=64, mask_zero=True))\n",
        "dl_model.add(tf.keras.layers.LSTM(128, input_shape=(124, 100)))\n",
        "dl_model.add(tf.keras.layers.Dense(64, activation='relu'))\n",
        "dl_model.add(tf.keras.layers.Dense(1, activation='sigmoid'))\n",
        "\n",
        "dl_model.compile(loss=tf.keras.losses.BinaryCrossentropy(from_logits=True), optimizer=tf.keras.optimizers.Adam(1e-4), metrics=['accuracy'])\n",
        "history = dl_model.fit(x=train_data_padded, y=train_labels, epochs=10, validation_data=(dev_data_padded, dev_labels), validation_steps=10)\n",
        "\n",
        "# validate results"
      ],
      "metadata": {
        "colab": {
          "base_uri": "https://localhost:8080/"
        },
        "id": "wvlTr9nB44r_",
        "outputId": "606367f2-7931-4636-b8c9-2bc1a872e4b4"
      },
      "execution_count": 24,
      "outputs": [
        {
          "output_type": "stream",
          "name": "stdout",
          "text": [
            "Train on 21601 samples, validate on 2800 samples\n",
            "Epoch 1/10\n",
            "21601/21601 [==============================] - 98s 5ms/sample - loss: 0.7052 - accuracy: 0.7181 - val_loss: 0.0792 - val_accuracy: 0.8469\n",
            "Epoch 2/10\n",
            "21601/21601 [==============================] - 91s 4ms/sample - loss: 0.6932 - accuracy: 0.7181 - val_loss: 0.0792 - val_accuracy: 0.8469\n",
            "Epoch 3/10\n",
            "21601/21601 [==============================] - 90s 4ms/sample - loss: 0.6931 - accuracy: 0.7181 - val_loss: 0.0792 - val_accuracy: 0.8469\n",
            "Epoch 4/10\n",
            "21601/21601 [==============================] - 90s 4ms/sample - loss: 0.6931 - accuracy: 0.7181 - val_loss: 0.0792 - val_accuracy: 0.8469\n",
            "Epoch 5/10\n",
            "21601/21601 [==============================] - 90s 4ms/sample - loss: 0.6931 - accuracy: 0.7181 - val_loss: 0.0792 - val_accuracy: 0.8469\n",
            "Epoch 6/10\n",
            "21601/21601 [==============================] - 92s 4ms/sample - loss: 0.6931 - accuracy: 0.7181 - val_loss: 0.0792 - val_accuracy: 0.8469\n",
            "Epoch 7/10\n",
            "21601/21601 [==============================] - 95s 4ms/sample - loss: 0.6931 - accuracy: 0.7181 - val_loss: 0.0792 - val_accuracy: 0.8469\n",
            "Epoch 8/10\n",
            "21601/21601 [==============================] - 90s 4ms/sample - loss: 0.6931 - accuracy: 0.7181 - val_loss: 0.0792 - val_accuracy: 0.8469\n",
            "Epoch 9/10\n",
            "21601/21601 [==============================] - 90s 4ms/sample - loss: 0.6931 - accuracy: 0.7181 - val_loss: 0.0792 - val_accuracy: 0.8469\n",
            "Epoch 10/10\n",
            "21601/21601 [==============================] - 90s 4ms/sample - loss: 0.6931 - accuracy: 0.7181 - val_loss: 0.0792 - val_accuracy: 0.8469\n"
          ]
        }
      ]
    },
    {
      "cell_type": "code",
      "source": [
        "results = dl_model.evaluate(test_data_padded, test_labels, batch_size=128)\n",
        "print(\"Test loss:\", results[0])\n",
        "print(\"Test accuracy:\", results[1])"
      ],
      "metadata": {
        "colab": {
          "base_uri": "https://localhost:8080/"
        },
        "id": "f4-dOZo-6Q4d",
        "outputId": "d0665232-9188-4aee-8f07-8f2b3c24470f"
      },
      "execution_count": 35,
      "outputs": [
        {
          "output_type": "stream",
          "name": "stdout",
          "text": [
            "2800/2800 [==============================] - 3s 907us/sample - loss: 0.6931 - accuracy: 0.7475\n",
            "Test loss: 0.6931472829410008\n",
            "Test accuracy: 0.7475\n"
          ]
        }
      ]
    },
    {
      "cell_type": "code",
      "source": [],
      "metadata": {
        "id": "oF143MMWRnmv"
      },
      "execution_count": null,
      "outputs": []
    }
  ]
}