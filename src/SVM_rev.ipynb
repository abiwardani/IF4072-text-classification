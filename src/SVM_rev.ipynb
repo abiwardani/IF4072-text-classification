{
 "cells": [
  {
   "cell_type": "code",
   "execution_count": 2,
   "metadata": {},
   "outputs": [],
   "source": [
    "import pandas as pd\n",
    "import numpy as np\n",
    "from nltk.tokenize import word_tokenize\n",
    "from nltk import pos_tag\n",
    "from nltk.corpus import stopwords\n",
    "from nltk.stem import WordNetLemmatizer\n",
    "from sklearn.preprocessing import LabelEncoder\n",
    "from collections import defaultdict\n",
    "from nltk.corpus import wordnet as wn\n",
    "from sklearn.feature_extraction.text import TfidfVectorizer\n",
    "from sklearn import model_selection, naive_bayes, svm\n",
    "from sklearn.metrics import accuracy_score\n",
    "\n",
    "np.random.seed(500)"
   ]
  },
  {
   "cell_type": "code",
   "execution_count": 3,
   "metadata": {},
   "outputs": [],
   "source": [
    "df = pd.read_csv('../dataset/train.csv',encoding='latin-1')\n",
    "dftest = pd.read_csv('../dataset/test.csv',encoding='latin-1')"
   ]
  },
  {
   "cell_type": "code",
   "execution_count": 12,
   "metadata": {},
   "outputs": [],
   "source": [
    "\n",
    "df['text_a'].dropna(inplace=True)\n",
    "df['text_a'] = [entry.lower() for entry in df['text_a']]\n",
    "df['text_a']= [word_tokenize(entry) for entry in df['text_a']]\n",
    "tag_map = defaultdict(lambda : wn.NOUN)\n",
    "tag_map['J'] = wn.ADJ\n",
    "tag_map['V'] = wn.VERB\n",
    "tag_map['R'] = wn.ADV\n",
    "for index,entry in enumerate(df['text_a']):\n",
    "    Final_words = []\n",
    "    word_Lemmatized = WordNetLemmatizer()\n",
    "    for word, tag in pos_tag(entry):\n",
    "        if word not in stopwords.words('english') and word.isalpha():\n",
    "            word_Final = word_Lemmatized.lemmatize(word,tag_map[tag[0]])\n",
    "            Final_words.append(word_Final)\n",
    "            df.loc[index,'text_final'] = str(Final_words)\n"
   ]
  },
  {
   "cell_type": "code",
   "execution_count": null,
   "metadata": {},
   "outputs": [],
   "source": []
  },
  {
   "cell_type": "code",
   "execution_count": 13,
   "metadata": {},
   "outputs": [
    {
     "name": "stdout",
     "output_type": "stream",
     "text": [
      "  (0, 4969)\t0.08544674302521513\n",
      "  (0, 4752)\t0.192253804338474\n",
      "  (0, 4372)\t0.17257556928740986\n",
      "  (0, 3997)\t0.1327193061594158\n",
      "  (0, 3343)\t0.15554130577029882\n",
      "  (0, 3055)\t0.4784343351816939\n",
      "  (0, 2504)\t0.16368094277055012\n",
      "  (0, 2187)\t0.22038203667081135\n",
      "  (0, 1996)\t0.1201091535581707\n",
      "  (0, 1640)\t0.6015118621285316\n",
      "  (0, 903)\t0.19431786116896668\n",
      "  (0, 872)\t0.058821637981268424\n",
      "  (0, 736)\t0.15944991974512454\n",
      "  (0, 541)\t0.1425792713159156\n",
      "  (0, 394)\t0.1440985123614311\n",
      "  (0, 338)\t0.21933908496287946\n",
      "  (0, 324)\t0.1903283826577389\n",
      "  (0, 151)\t0.10758347435701064\n",
      "  (1, 4724)\t0.36310916612811556\n",
      "  (1, 3683)\t0.46639757059391834\n",
      "  (1, 2993)\t0.4864171528031431\n",
      "  (1, 2637)\t0.3831812955502047\n",
      "  (1, 2558)\t0.4385310053947065\n",
      "  (1, 872)\t0.2736531474781427\n",
      "  (2, 4746)\t0.2965085097045991\n",
      "  :\t:\n",
      "  (21598, 2164)\t0.2204807560884628\n",
      "  (21598, 981)\t0.16894464074661952\n",
      "  (21598, 897)\t0.28210619995748437\n",
      "  (21598, 872)\t0.10183155564432896\n",
      "  (21598, 626)\t0.252649214965177\n",
      "  (21598, 455)\t0.33640154833185626\n",
      "  (21599, 4762)\t0.19339419794125864\n",
      "  (21599, 4676)\t0.33542993892264134\n",
      "  (21599, 4651)\t0.26045877110074717\n",
      "  (21599, 2661)\t0.27444757403750697\n",
      "  (21599, 1077)\t0.6191994702370691\n",
      "  (21599, 981)\t0.15372489116960814\n",
      "  (21599, 919)\t0.2320616424584683\n",
      "  (21599, 872)\t0.09265783596257457\n",
      "  (21599, 852)\t0.12245852403265288\n",
      "  (21599, 370)\t0.3110810014086261\n",
      "  (21599, 220)\t0.21916403977476426\n",
      "  (21599, 101)\t0.2786528942785593\n",
      "  (21600, 3830)\t0.3403337744595632\n",
      "  (21600, 3666)\t0.40549674211119086\n",
      "  (21600, 981)\t0.1624208101996004\n",
      "  (21600, 965)\t0.36176217405817324\n",
      "  (21600, 440)\t0.31866828693291344\n",
      "  (21600, 261)\t0.31866828693291344\n",
      "  (21600, 162)\t0.5994947620626986\n"
     ]
    }
   ],
   "source": [
    "X = df['text_a']\n",
    "Y = dftest['text_a']\n",
    "Xtest = df['label']\n",
    "Ytest = dftest['label']\n",
    "\n",
    "Encoder = LabelEncoder()\n",
    "Y = Encoder.fit_transform(Y)\n",
    "Ytest = Encoder.fit_transform(Ytest)\n",
    "\n",
    "Tfidf_vect = TfidfVectorizer(max_features=5000)\n",
    "Tfidf_vect.fit(df['text_a'])\n",
    "Train_X_Tfidf = Tfidf_vect.transform(X)\n",
    "Test_X_Tfidf = Tfidf_vect.transform(Xtest)\n",
    "\n",
    "print(Train_X_Tfidf)"
   ]
  },
  {
   "cell_type": "code",
   "execution_count": null,
   "metadata": {},
   "outputs": [],
   "source": [
    "Naive = naive_bayes.MultinomialNB()\n",
    "Naive.fit(Train_X_Tfidf,Y)\n",
    "predictions_NB = Naive.predict(Test_X_Tfidf)\n",
    "print(\"Naive Bayes Accuracy Score -> \",accuracy_score(predictions_NB, Ytest)*100)"
   ]
  },
  {
   "cell_type": "code",
   "execution_count": null,
   "metadata": {},
   "outputs": [],
   "source": [
    "SVM = svm.SVC(C=1.0, kernel='linear', degree=3, gamma='auto')\n",
    "SVM.fit(Train_X_Tfidf,Y)\n",
    "predictions_SVM = SVM.predict(Test_X_Tfidf)\n",
    "print(\"SVM Accuracy Score -> \",accuracy_score(predictions_SVM, Y)*100)"
   ]
  }
 ],
 "metadata": {
  "kernelspec": {
   "display_name": "Python 3.10.7 64-bit",
   "language": "python",
   "name": "python3"
  },
  "language_info": {
   "codemirror_mode": {
    "name": "ipython",
    "version": 3
   },
   "file_extension": ".py",
   "mimetype": "text/x-python",
   "name": "python",
   "nbconvert_exporter": "python",
   "pygments_lexer": "ipython3",
   "version": "3.10.7"
  },
  "orig_nbformat": 4,
  "vscode": {
   "interpreter": {
    "hash": "200e2a1a991d180c9c309c789f657d054eb1e69794afbc0e2ae3f183f1fccf4c"
   }
  }
 },
 "nbformat": 4,
 "nbformat_minor": 2
}
